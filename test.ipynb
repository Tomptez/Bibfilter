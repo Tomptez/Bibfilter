{
 "cells": [
  {
   "cell_type": "code",
   "execution_count": 5,
   "metadata": {},
   "outputs": [],
   "source": [
    "from pyzotero import zotero, zotero_errors\n",
    "import os\n",
    "\n",
    "\n",
    "APIkey = \"I9k8S5fSJkNQ8JeOkVjJbKGj\"\n",
    "LIBRARY_ID = 2364338\n",
    "COLLECTION_ID = \"VIZDZ4PX\"\n",
    "\n",
    "articleID = \"DBTKYCIR\"\n",
    "libraryID = os.environ[\"LIBRARY_ID\"]\n",
    "zot = zotero.Zotero(libraryID, \"group\", APIkey)\n",
    "attachments = zot.children(articleID)"
   ]
  },
  {
   "cell_type": "code",
   "execution_count": 3,
   "metadata": {},
   "outputs": [
    {
     "ename": "UnsupportedParams",
     "evalue": "\nCode: 400\nURL: https://api.zotero.org/groups/2364338/items/DBTKYCIR/file\nMethod: GET\nResponse: Item is not an attachment",
     "output_type": "error",
     "traceback": [
      "\u001b[1;31m---------------------------------------------------------------------------\u001b[0m",
      "\u001b[1;31mHTTPError\u001b[0m                                 Traceback (most recent call last)",
      "File \u001b[1;32mc:\\Python311\\Lib\\site-packages\\pyzotero\\zotero.py:411\u001b[0m, in \u001b[0;36mZotero._retrieve_data\u001b[1;34m(self, request, params)\u001b[0m\n\u001b[0;32m    410\u001b[0m \u001b[39mtry\u001b[39;00m:\n\u001b[1;32m--> 411\u001b[0m     \u001b[39mself\u001b[39;49m\u001b[39m.\u001b[39;49mrequest\u001b[39m.\u001b[39;49mraise_for_status()\n\u001b[0;32m    412\u001b[0m \u001b[39mexcept\u001b[39;00m requests\u001b[39m.\u001b[39mexceptions\u001b[39m.\u001b[39mHTTPError:\n",
      "File \u001b[1;32mc:\\Python311\\Lib\\site-packages\\requests\\models.py:1021\u001b[0m, in \u001b[0;36mResponse.raise_for_status\u001b[1;34m(self)\u001b[0m\n\u001b[0;32m   1020\u001b[0m \u001b[39mif\u001b[39;00m http_error_msg:\n\u001b[1;32m-> 1021\u001b[0m     \u001b[39mraise\u001b[39;00m HTTPError(http_error_msg, response\u001b[39m=\u001b[39m\u001b[39mself\u001b[39m)\n",
      "\u001b[1;31mHTTPError\u001b[0m: 400 Client Error: Bad Request for url: https://api.zotero.org/groups/2364338/items/DBTKYCIR/file",
      "\nDuring handling of the above exception, another exception occurred:\n",
      "\u001b[1;31mUnsupportedParams\u001b[0m                         Traceback (most recent call last)",
      "\u001b[1;32mc:\\Github\\Bibfilter\\test.ipynb Cell 2\u001b[0m line \u001b[0;36m3\n\u001b[0;32m      <a href='vscode-notebook-cell:/c%3A/Github/Bibfilter/test.ipynb#W1sZmlsZQ%3D%3D?line=0'>1</a>\u001b[0m \u001b[39m#zot.file(articleID)\u001b[39;00m\n\u001b[0;32m      <a href='vscode-notebook-cell:/c%3A/Github/Bibfilter/test.ipynb#W1sZmlsZQ%3D%3D?line=1'>2</a>\u001b[0m \u001b[39m#urlretrieve(https://www.zotero.org/groups/2364338/opinionpolicy/collections/VIZDZ4PX/items/DBTKYCIR/attachment/8IXXQFUR/, 'article.pdf')\u001b[39;00m\n\u001b[1;32m----> <a href='vscode-notebook-cell:/c%3A/Github/Bibfilter/test.ipynb#W1sZmlsZQ%3D%3D?line=2'>3</a>\u001b[0m zot\u001b[39m.\u001b[39;49mdump(articleID, \u001b[39m'\u001b[39;49m\u001b[39mzot_article.pdf\u001b[39;49m\u001b[39m'\u001b[39;49m)\n\u001b[0;32m      <a href='vscode-notebook-cell:/c%3A/Github/Bibfilter/test.ipynb#W1sZmlsZQ%3D%3D?line=4'>5</a>\u001b[0m \u001b[39m#zot.dump(2364338/opinionpolicy/collections/VIZDZ4PX/items/DBTKYCIR)\u001b[39;00m\n",
      "File \u001b[1;32mc:\\Python311\\Lib\\site-packages\\pyzotero\\zotero.py:719\u001b[0m, in \u001b[0;36mZotero.dump\u001b[1;34m(self, itemkey, filename, path)\u001b[0m\n\u001b[0;32m    717\u001b[0m \u001b[39melse\u001b[39;00m:\n\u001b[0;32m    718\u001b[0m     pth \u001b[39m=\u001b[39m filename\n\u001b[1;32m--> 719\u001b[0m file \u001b[39m=\u001b[39m \u001b[39mself\u001b[39;49m\u001b[39m.\u001b[39;49mfile(itemkey)\n\u001b[0;32m    720\u001b[0m \u001b[39mif\u001b[39;00m \u001b[39mself\u001b[39m\u001b[39m.\u001b[39msnapshot:\n\u001b[0;32m    721\u001b[0m     \u001b[39mself\u001b[39m\u001b[39m.\u001b[39msnapshot \u001b[39m=\u001b[39m \u001b[39mFalse\u001b[39;00m\n",
      "File \u001b[1;32mc:\\Python311\\Lib\\site-packages\\pyzotero\\zotero.py:178\u001b[0m, in \u001b[0;36mretrieve.<locals>.wrapped_f\u001b[1;34m(self, *args, **kwargs)\u001b[0m\n\u001b[0;32m    176\u001b[0m \u001b[39mif\u001b[39;00m kwargs:\n\u001b[0;32m    177\u001b[0m     \u001b[39mself\u001b[39m\u001b[39m.\u001b[39madd_parameters(\u001b[39m*\u001b[39m\u001b[39m*\u001b[39mkwargs)\n\u001b[1;32m--> 178\u001b[0m retrieved \u001b[39m=\u001b[39m \u001b[39mself\u001b[39;49m\u001b[39m.\u001b[39;49m_retrieve_data(func(\u001b[39mself\u001b[39;49m, \u001b[39m*\u001b[39;49margs))\n\u001b[0;32m    179\u001b[0m \u001b[39m# we now always have links in the header response\u001b[39;00m\n\u001b[0;32m    180\u001b[0m \u001b[39mself\u001b[39m\u001b[39m.\u001b[39mlinks \u001b[39m=\u001b[39m \u001b[39mself\u001b[39m\u001b[39m.\u001b[39m_extract_links()\n",
      "File \u001b[1;32mc:\\Python311\\Lib\\site-packages\\pyzotero\\zotero.py:413\u001b[0m, in \u001b[0;36mZotero._retrieve_data\u001b[1;34m(self, request, params)\u001b[0m\n\u001b[0;32m    411\u001b[0m     \u001b[39mself\u001b[39m\u001b[39m.\u001b[39mrequest\u001b[39m.\u001b[39mraise_for_status()\n\u001b[0;32m    412\u001b[0m \u001b[39mexcept\u001b[39;00m requests\u001b[39m.\u001b[39mexceptions\u001b[39m.\u001b[39mHTTPError:\n\u001b[1;32m--> 413\u001b[0m     error_handler(\u001b[39mself\u001b[39;49m, \u001b[39mself\u001b[39;49m\u001b[39m.\u001b[39;49mrequest)\n\u001b[0;32m    414\u001b[0m backoff \u001b[39m=\u001b[39m \u001b[39mself\u001b[39m\u001b[39m.\u001b[39mrequest\u001b[39m.\u001b[39mheaders\u001b[39m.\u001b[39mget(\u001b[39m\"\u001b[39m\u001b[39mbackoff\u001b[39m\u001b[39m\"\u001b[39m) \u001b[39mor\u001b[39;00m \u001b[39mself\u001b[39m\u001b[39m.\u001b[39mrequest\u001b[39m.\u001b[39mheaders\u001b[39m.\u001b[39mget(\n\u001b[0;32m    415\u001b[0m     \u001b[39m\"\u001b[39m\u001b[39mretry-after\u001b[39m\u001b[39m\"\u001b[39m\n\u001b[0;32m    416\u001b[0m )\n\u001b[0;32m    417\u001b[0m \u001b[39mif\u001b[39;00m backoff:\n",
      "File \u001b[1;32mc:\\Python311\\Lib\\site-packages\\pyzotero\\zotero.py:1642\u001b[0m, in \u001b[0;36merror_handler\u001b[1;34m(zot, req)\u001b[0m\n\u001b[0;32m   1640\u001b[0m             zot\u001b[39m.\u001b[39m_set_backoff(delay)\n\u001b[0;32m   1641\u001b[0m     \u001b[39melse\u001b[39;00m:\n\u001b[1;32m-> 1642\u001b[0m         \u001b[39mraise\u001b[39;00m error_codes\u001b[39m.\u001b[39mget(req\u001b[39m.\u001b[39mstatus_code)(err_msg(req))\n\u001b[0;32m   1643\u001b[0m \u001b[39melse\u001b[39;00m:\n\u001b[0;32m   1644\u001b[0m     \u001b[39mraise\u001b[39;00m ze\u001b[39m.\u001b[39mHTTPError(err_msg(req))\n",
      "\u001b[1;31mUnsupportedParams\u001b[0m: \nCode: 400\nURL: https://api.zotero.org/groups/2364338/items/DBTKYCIR/file\nMethod: GET\nResponse: Item is not an attachment"
     ]
    }
   ],
   "source": [
    "#zot.file(articleID)\n",
    "#urlretrieve(https://www.zotero.org/groups/2364338/opinionpolicy/collections/VIZDZ4PX/items/DBTKYCIR/attachment/8IXXQFUR/, 'article.pdf')\n",
    "zot.dump(articleID, 'zot_article.pdf')\n",
    "\n",
    "#zot.dump(2364338/opinionpolicy/collections/VIZDZ4PX/items/DBTKYCIR)\n"
   ]
  },
  {
   "cell_type": "code",
   "execution_count": 6,
   "metadata": {},
   "outputs": [
    {
     "ename": "KeyError",
     "evalue": "'attachments'",
     "output_type": "error",
     "traceback": [
      "\u001b[1;31m---------------------------------------------------------------------------\u001b[0m",
      "\u001b[1;31mKeyError\u001b[0m                                  Traceback (most recent call last)",
      "\u001b[1;32mc:\\Github\\Bibfilter\\test.ipynb Cell 3\u001b[0m line \u001b[0;36m5\n\u001b[0;32m      <a href='vscode-notebook-cell:/c%3A/Github/Bibfilter/test.ipynb#W2sZmlsZQ%3D%3D?line=2'>3</a>\u001b[0m \u001b[39m# Find the PDF attachment URL (assuming it's the first attachment)\u001b[39;00m\n\u001b[0;32m      <a href='vscode-notebook-cell:/c%3A/Github/Bibfilter/test.ipynb#W2sZmlsZQ%3D%3D?line=3'>4</a>\u001b[0m pdf_attachment_url \u001b[39m=\u001b[39m \u001b[39mNone\u001b[39;00m\n\u001b[1;32m----> <a href='vscode-notebook-cell:/c%3A/Github/Bibfilter/test.ipynb#W2sZmlsZQ%3D%3D?line=4'>5</a>\u001b[0m \u001b[39mfor\u001b[39;00m attachment \u001b[39min\u001b[39;00m item[\u001b[39m'\u001b[39;49m\u001b[39mdata\u001b[39;49m\u001b[39m'\u001b[39;49m][\u001b[39m'\u001b[39;49m\u001b[39mattachments\u001b[39;49m\u001b[39m'\u001b[39;49m]:\n\u001b[0;32m      <a href='vscode-notebook-cell:/c%3A/Github/Bibfilter/test.ipynb#W2sZmlsZQ%3D%3D?line=5'>6</a>\u001b[0m     \u001b[39mif\u001b[39;00m attachment[\u001b[39m'\u001b[39m\u001b[39mcontentType\u001b[39m\u001b[39m'\u001b[39m] \u001b[39m==\u001b[39m \u001b[39m'\u001b[39m\u001b[39mapplication/pdf\u001b[39m\u001b[39m'\u001b[39m:\n\u001b[0;32m      <a href='vscode-notebook-cell:/c%3A/Github/Bibfilter/test.ipynb#W2sZmlsZQ%3D%3D?line=6'>7</a>\u001b[0m         pdf_attachment_url \u001b[39m=\u001b[39m attachment[\u001b[39m'\u001b[39m\u001b[39mlinkMode\u001b[39m\u001b[39m'\u001b[39m][\u001b[39m'\u001b[39m\u001b[39mimportedFile\u001b[39m\u001b[39m'\u001b[39m][\u001b[39m'\u001b[39m\u001b[39murl\u001b[39m\u001b[39m'\u001b[39m]\n",
      "\u001b[1;31mKeyError\u001b[0m: 'attachments'"
     ]
    }
   ],
   "source": [
    "item = zot.item(articleID)\n",
    " \n",
    "# Find the PDF attachment URL (assuming it's the first attachment)\n",
    "pdf_attachment_url = None\n",
    "for attachment in item['data']['attachments']:\n",
    "    if attachment['contentType'] == 'application/pdf':\n",
    "        pdf_attachment_url = attachment['linkMode']['importedFile']['url']\n",
    "        break\n",
    " \n",
    "if pdf_attachment_url:\n",
    "    # Download the PDF file\n",
    "    response = requests.get(pdf_attachment_url)\n",
    " \n",
    "    # Save the PDF to a file\n",
    "    with open('downloaded.pdf', 'wb') as pdf_file:\n",
    "        pdf_file.write(response.content)\n",
    "    \n",
    "    print('PDF attachment downloaded successfully as \"downloaded.pdf\".')\n",
    "else:\n",
    "    print('No PDF attachment found for the specified item.')"
   ]
  },
  {
   "cell_type": "code",
   "execution_count": null,
   "metadata": {},
   "outputs": [],
   "source": []
  },
  {
   "cell_type": "code",
   "execution_count": null,
   "metadata": {},
   "outputs": [],
   "source": []
  }
 ],
 "metadata": {
  "kernelspec": {
   "display_name": "Python 3",
   "language": "python",
   "name": "python3"
  },
  "language_info": {
   "codemirror_mode": {
    "name": "ipython",
    "version": 3
   },
   "file_extension": ".py",
   "mimetype": "text/x-python",
   "name": "python",
   "nbconvert_exporter": "python",
   "pygments_lexer": "ipython3",
   "version": "3.11.1"
  },
  "orig_nbformat": 4
 },
 "nbformat": 4,
 "nbformat_minor": 2
}
